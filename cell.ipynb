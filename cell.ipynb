{
 "cells": [
  {
   "cell_type": "code",
   "execution_count": 13,
   "metadata": {},
   "outputs": [
    {
     "name": "stdout",
     "output_type": "stream",
     "text": [
      "{'a': [1, 2, 3, 3, 3], 'b': ['e']}\n"
     ]
    },
    {
     "ename": "TypeError",
     "evalue": "unsupported operand type(s) for +: 'int' and 'str'",
     "output_type": "error",
     "traceback": [
      "\u001b[0;31m---------------------------------------------------------------------------\u001b[0m",
      "\u001b[0;31mTypeError\u001b[0m                                 Traceback (most recent call last)",
      "Cell \u001b[0;32mIn[13], line 7\u001b[0m\n\u001b[1;32m      5\u001b[0m ll\u001b[38;5;241m=\u001b[39m{\u001b[38;5;124m'\u001b[39m\u001b[38;5;124ma\u001b[39m\u001b[38;5;124m'\u001b[39m : [\u001b[38;5;241m1\u001b[39m,\u001b[38;5;241m2\u001b[39m,\u001b[38;5;241m3\u001b[39m,\u001b[38;5;241m3\u001b[39m,\u001b[38;5;241m3\u001b[39m] , \u001b[38;5;124m'\u001b[39m\u001b[38;5;124mb\u001b[39m\u001b[38;5;124m'\u001b[39m:[\u001b[38;5;124m'\u001b[39m\u001b[38;5;124me\u001b[39m\u001b[38;5;124m'\u001b[39m]}\n\u001b[1;32m      6\u001b[0m \u001b[38;5;28mprint\u001b[39m(ll)\n\u001b[0;32m----> 7\u001b[0m \u001b[38;5;28;43msum\u001b[39;49m\u001b[43m(\u001b[49m\u001b[43mll\u001b[49m\u001b[43m[\u001b[49m\u001b[38;5;124;43m'\u001b[39;49m\u001b[38;5;124;43mb\u001b[39;49m\u001b[38;5;124;43m'\u001b[39;49m\u001b[43m]\u001b[49m\u001b[43m)\u001b[49m\n",
      "\u001b[0;31mTypeError\u001b[0m: unsupported operand type(s) for +: 'int' and 'str'"
     ]
    }
   ],
   "source": [
    "import numpy as np\n",
    "np.array([[1,1,1],[1,1,1]])\n",
    "\n",
    "\n",
    "ll={'a' : [1,2,3,3,3] , 'b':['e']}\n",
    "ll['c']=[0,1,0]"
   ]
  },
  {
   "cell_type": "code",
   "execution_count": 17,
   "metadata": {},
   "outputs": [
    {
     "name": "stdout",
     "output_type": "stream",
     "text": [
      "{'a': [1, 2, 5], 'b': ['e'], 'c': [0, 1, 0]}\n"
     ]
    },
    {
     "data": {
      "text/plain": [
       "{'a': [1, 2, 5], 'b': ['e'], 'c': [0, 1, 0]}"
      ]
     },
     "execution_count": 17,
     "metadata": {},
     "output_type": "execute_result"
    }
   ],
   "source": [
    "ll['c']=[0,1,0]\n",
    "print(ll)\n",
    "ll['a']=[1,2,5]\n",
    "ll"
   ]
  },
  {
   "cell_type": "code",
   "execution_count": 22,
   "metadata": {},
   "outputs": [
    {
     "name": "stdout",
     "output_type": "stream",
     "text": [
      "Requirement already satisfied: pandas in /Library/Frameworks/Python.framework/Versions/3.12/lib/python3.12/site-packages (2.2.2)\n",
      "Collecting seaborn\n",
      "  Downloading seaborn-0.13.2-py3-none-any.whl.metadata (5.4 kB)\n",
      "Requirement already satisfied: numpy>=1.26.0 in /Library/Frameworks/Python.framework/Versions/3.12/lib/python3.12/site-packages (from pandas) (1.26.4)\n",
      "Requirement already satisfied: python-dateutil>=2.8.2 in /Users/jingpingqiao/Library/Python/3.12/lib/python/site-packages (from pandas) (2.9.0.post0)\n",
      "Requirement already satisfied: pytz>=2020.1 in /Library/Frameworks/Python.framework/Versions/3.12/lib/python3.12/site-packages (from pandas) (2024.1)\n",
      "Requirement already satisfied: tzdata>=2022.7 in /Library/Frameworks/Python.framework/Versions/3.12/lib/python3.12/site-packages (from pandas) (2024.1)\n",
      "Requirement already satisfied: matplotlib!=3.6.1,>=3.4 in /Library/Frameworks/Python.framework/Versions/3.12/lib/python3.12/site-packages (from seaborn) (3.9.1)\n",
      "Requirement already satisfied: contourpy>=1.0.1 in /Library/Frameworks/Python.framework/Versions/3.12/lib/python3.12/site-packages (from matplotlib!=3.6.1,>=3.4->seaborn) (1.2.1)\n",
      "Requirement already satisfied: cycler>=0.10 in /Library/Frameworks/Python.framework/Versions/3.12/lib/python3.12/site-packages (from matplotlib!=3.6.1,>=3.4->seaborn) (0.12.1)\n",
      "Requirement already satisfied: fonttools>=4.22.0 in /Library/Frameworks/Python.framework/Versions/3.12/lib/python3.12/site-packages (from matplotlib!=3.6.1,>=3.4->seaborn) (4.53.1)\n",
      "Requirement already satisfied: kiwisolver>=1.3.1 in /Library/Frameworks/Python.framework/Versions/3.12/lib/python3.12/site-packages (from matplotlib!=3.6.1,>=3.4->seaborn) (1.4.5)\n",
      "Requirement already satisfied: packaging>=20.0 in /Users/jingpingqiao/Library/Python/3.12/lib/python/site-packages (from matplotlib!=3.6.1,>=3.4->seaborn) (24.1)\n",
      "Requirement already satisfied: pillow>=8 in /Library/Frameworks/Python.framework/Versions/3.12/lib/python3.12/site-packages (from matplotlib!=3.6.1,>=3.4->seaborn) (10.4.0)\n",
      "Requirement already satisfied: pyparsing>=2.3.1 in /Library/Frameworks/Python.framework/Versions/3.12/lib/python3.12/site-packages (from matplotlib!=3.6.1,>=3.4->seaborn) (3.1.2)\n",
      "Requirement already satisfied: six>=1.5 in /Users/jingpingqiao/Library/Python/3.12/lib/python/site-packages (from python-dateutil>=2.8.2->pandas) (1.16.0)\n",
      "Downloading seaborn-0.13.2-py3-none-any.whl (294 kB)\n",
      "\u001b[2K   \u001b[90m━━━━━━━━━━━━━━━━━━━━━━━━━━━━━━━━━━━━━━━━\u001b[0m \u001b[32m294.9/294.9 kB\u001b[0m \u001b[31m5.9 MB/s\u001b[0m eta \u001b[36m0:00:00\u001b[0ma \u001b[36m0:00:01\u001b[0m\n",
      "\u001b[?25hInstalling collected packages: seaborn\n",
      "Successfully installed seaborn-0.13.2\n",
      "\n",
      "\u001b[1m[\u001b[0m\u001b[34;49mnotice\u001b[0m\u001b[1;39;49m]\u001b[0m\u001b[39;49m A new release of pip is available: \u001b[0m\u001b[31;49m24.0\u001b[0m\u001b[39;49m -> \u001b[0m\u001b[32;49m24.1.2\u001b[0m\n",
      "\u001b[1m[\u001b[0m\u001b[34;49mnotice\u001b[0m\u001b[1;39;49m]\u001b[0m\u001b[39;49m To update, run: \u001b[0m\u001b[32;49mpip3 install --upgrade pip\u001b[0m\n",
      "Note: you may need to restart the kernel to use updated packages.\n"
     ]
    }
   ],
   "source": [
    "pip install pandas seaborn"
   ]
  },
  {
   "cell_type": "code",
   "execution_count": 12,
   "metadata": {},
   "outputs": [],
   "source": [
    "import pandas as pd\n",
    "import seaborn as sb\n",
    "tips = sb.load_dataset('tips')"
   ]
  },
  {
   "cell_type": "code",
   "execution_count": 28,
   "metadata": {},
   "outputs": [
    {
     "name": "stdout",
     "output_type": "stream",
     "text": [
      "      Gene  Length (Mb)\n",
      "0    PTCH1     0.074078\n",
      "1      RET     0.053288\n",
      "2     JAK2     0.145559\n",
      "3     ATRX     0.281354\n",
      "4      NBN     0.078714\n",
      "..     ...          ...\n",
      "63    CDK6     0.231653\n",
      "64     ALK     0.728813\n",
      "65  RICTOR     0.136483\n",
      "66  CREBBP     0.155660\n",
      "67    MSH6     0.114534\n",
      "\n",
      "[68 rows x 2 columns]\n"
     ]
    }
   ],
   "source": [
    "import requests\n",
    "import pandas as pd\n",
    "# Function to get gene length in base pairs from Ensembl\n",
    "def get_gene_length(gene_name):\n",
    "    server = \"https://rest.ensembl.org\"\n",
    "    ext = f\"/lookup/symbol/homo_sapiens/{gene_name}?content-type=application/json\"\n",
    "    r = requests.get(server+ext, headers={ \"Content-Type\" : \"application/json\"})\n",
    "    if not r.ok:\n",
    "        return None\n",
    "    data = r.json()\n",
    "    return data['end'] - data['start'] + 1\n",
    "# List of genes\n",
    "genes = [\n",
    "    \"PTCH1\",\n",
    "\"RET\",\n",
    "\"JAK2\",\n",
    "\"JAK1\",\n",
    "\"BTK\",\n",
    "\"ATRX\",\n",
    "\"NBN\",\n",
    "\"CCND1\",\n",
    "\"KRAS\",\n",
    "\"PRKACB\",\n",
    "\"IDH1\",\n",
    "\"PIK3CA\",\n",
    "\"PTEN\",\n",
    "\"MRE11\",\n",
    "\"ARAF\",\n",
    "\"ERCC2\",\n",
    "\"NTRK3\",\n",
    "\"MAGOH\",\n",
    "\"GNAS\",\n",
    "\"NOTCH1\",\n",
    "\"CDKN2B\",\n",
    "\"RNF43\",\n",
    "\"FBXW7\",\n",
    "\"SMO\",\n",
    "\"KIT\",\n",
    "\"PRKACA\",\n",
    "\"TP53\",\n",
    "\"HRAS\",\n",
    "\"CDK4\",\n",
    "\"EGFR\",\n",
    "\"STK11\",\n",
    "\"IGF1R\",\n",
    "\"RHOA\",\n",
    "\"FGFR4\",\n",
    "\"KDR\",\n",
    "\"IDH2\",\n",
    "\"PALB2\",\n",
    "\"RAD51\",\n",
    "\"TSC2\",\n",
    "\"HNF1A\",\n",
    "\"U2AF1\",\n",
    "\"CDKN2A\",\n",
    "\"NTRK2\",\n",
    "\"RSPO3\",\n",
    "\"AXL\",\n",
    "\"NTRK1\",\n",
    "\"FANCA\",\n",
    "\"AR\",\n",
    "\"CSF1R\",\n",
    "\"FGFR2\",\n",
    "\"NRAS\",\n",
    "\"CCNE1\",\n",
    "\"CCND3\",\n",
    "\"FANCI\",\n",
    "\"CCND2\",\n",
    "\"BRCA1\",\n",
    "\"ERBB3\",\n",
    "\"ARID1A\",\n",
    "\"ROS1\",\n",
    "\"XPO1\",\n",
    "\"SMARCA4\",\n",
    "\"SLX4\",\n",
    "\"GATA2\",\n",
    "\"SRC\",\n",
    "\"MDM4\",\n",
    "\"MYCL\",\n",
    "\"PIK3R1\",\n",
    "\"BRCA2\",\n",
    "\"MLH1\",\n",
    "\"FGF19\",\n",
    "\"MYB\",\n",
    "\"FLT3\"\n",
    "\"FGF3\",\n",
    "\"MAP2K1\",\n",
    "\"MYC\",\n",
    "\"ERG\",\n",
    "\"TSC1\",\n",
    "\"PTPN11\",\n",
    "\"MAP2K4\",\n",
    "\"SMAD4\",\n",
    "\"CDK12\",\n",
    "\"NRG1\",\n",
    "\"EZH2\",\n",
    "\"ETV4\",\n",
    "\"NOTCH4\",\n",
    "\"SF3B1\",\n",
    "\"AKT3\",\n",
    "\"SETD2\",\n",
    "\"CDK2\",\n",
    "\"ESR1\",\n",
    "\"SPOP\",\n",
    "\"FGFR1\",\n",
    "\"MAPK1\",\n",
    "\"BRAF\",\n",
    "\"TERT\",\n",
    "\"KNSTRN\",\n",
    "\"PPARG\",\n",
    "\"STAT3\",\n",
    "\"NF2\",\n",
    "\"RHEB\",\n",
    "\"RAC1\",\n",
    "\"RAD51B\",\n",
    "\"AKT1\",\n",
    "\"RELA\",\n",
    "\"AKT2\",\n",
    "\"RAF1\",\n",
    "\"MET\",\n",
    "\"H3F3A\",\n",
    "\"PPP2R1A\",\n",
    "\"CBL\",\n",
    "\"CTNNB1\",\n",
    "\"MYBL1\",\n",
    "\"ERBB4\",\n",
    "\"GNAQ\",\n",
    "\"GNA11\",\n",
    "\"NFE2L2\",\n",
    "\"RSPO2\",\n",
    "\"ATR\",\n",
    "\"RAD51C\",\n",
    "\"POLE\",\n",
    "\"TOP1\",\n",
    "\"MDM2\",\n",
    "\"ATM\",\n",
    "\"FGFR3\",\n",
    "\"FOXL2\",\n",
    "\"PMS2\",\n",
    "\"HIST1H3B\",\n",
    "\"MTOR\",\n",
    "\"MAP2K2\",\n",
    "\"MED12\",\n",
    "\"SMARCB1\",\n",
    "\"ERBB2\",\n",
    "\"PDGFRB\",\n",
    "\"CHEK2\",\n",
    "\"CHEK1\",\n",
    "\"MYCN\",\n",
    "\"BAP1\",\n",
    "\"NOTCH3\",\n",
    "\"FGR\",\n",
    "\"RB1\",\n",
    "\"CDKN1B\",\n",
    "\"PIK3CB\",\n",
    "\"RAD51D\",\n",
    "\"MAX\",\n",
    "\"CDK6\",\n",
    "\"MSH2\",\n",
    "\"RAD50\",\n",
    "\"ALK\",\n",
    "\"RICTOR\",\n",
    "\"FANCD2\",\n",
    "\"JAK3\",\n",
    "\"ETV1\",\n",
    "\"NF1\",\n",
    "\"ETV5\",\n",
    "\"NUTM1\",\n",
    "\"MYD88\",\n",
    "\"PDGFRA\",\n",
    "\"CREBBP\",\n",
    "\"MSH6\",\n",
    "\"NOTCH2\",\n",
    "\"DDR2\"\n",
    "]\n",
    "# Get lengths for each gene\n",
    "gene_lengths = {gene: get_gene_length(gene) for gene in genes}\n",
    "# Convert base pairs to megabases\n",
    "gene_lengths_mb = {gene: length / 1e6 for gene, length in gene_lengths.items() if length is not None}\n",
    "# Display the results\n",
    "gene_lengths_mb_df = pd.DataFrame(list(gene_lengths_mb.items()), columns=['Gene', 'Length (Mb)'])\n",
    "print(gene_lengths_mb_df)"
   ]
  },
  {
   "cell_type": "code",
   "execution_count": 30,
   "metadata": {},
   "outputs": [
    {
     "data": {
      "text/plain": [
       "115"
      ]
     },
     "execution_count": 30,
     "metadata": {},
     "output_type": "execute_result"
    }
   ],
   "source": [
    "len(genes)"
   ]
  }
 ],
 "metadata": {
  "kernelspec": {
   "display_name": "Python 3",
   "language": "python",
   "name": "python3"
  },
  "language_info": {
   "codemirror_mode": {
    "name": "ipython",
    "version": 3
   },
   "file_extension": ".py",
   "mimetype": "text/x-python",
   "name": "python",
   "nbconvert_exporter": "python",
   "pygments_lexer": "ipython3",
   "version": "3.12.4"
  }
 },
 "nbformat": 4,
 "nbformat_minor": 2
}
